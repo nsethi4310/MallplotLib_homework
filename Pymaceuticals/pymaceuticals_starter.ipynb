{
 "cells": [
  {
   "cell_type": "code",
   "execution_count": null,
   "metadata": {},
   "outputs": [],
   "source": [
    "#%matplotlib notebook"
   ]
  },
  {
   "cell_type": "markdown",
   "metadata": {},
   "source": [
    "## Observations and Insights "
   ]
  },
  {
   "cell_type": "markdown",
   "metadata": {},
   "source": []
  },
  {
   "cell_type": "code",
   "execution_count": null,
   "metadata": {},
   "outputs": [],
   "source": [
    "# Dependencies and Setup\n",
    "import matplotlib.pyplot as plt\n",
    "import pandas as pd\n",
    "import scipy.stats as st\n",
    "import numpy as np\n",
    "\n",
    "# Study data files\n",
    "mouse_metadata_path = \"data/Mouse_metadata.csv\"\n",
    "study_results_path = \"data/Study_results.csv\"\n",
    "\n",
    "# Read the mouse data count and the study results()\n",
    "mouse_metadata = pd.read_csv(mouse_metadata_path)\n",
    "study_results = pd.read_csv(study_results_path)\n",
    "type(study_results)\n",
    "study_results.nunique()"
   ]
  },
  {
   "cell_type": "code",
   "execution_count": null,
   "metadata": {},
   "outputs": [],
   "source": [
    "# Getting the duplicate mice by ID number that shows up for Mouse ID and Timepoint\n",
    "study_results[study_results.duplicated(['Mouse ID', 'Timepoint'])]\n"
   ]
  },
  {
   "cell_type": "code",
   "execution_count": null,
   "metadata": {},
   "outputs": [],
   "source": [
    "# Getting the duplicate mice by ID number that shows up for Mouse ID and Timepoint\n",
    "#Dropping all the columns for mice with duplicate timepoints\n",
    "indexNames = study_results[ study_results['Mouse ID'] == 'g989' ].index\n",
    "study_results.drop(indexNames , inplace=True)\n",
    "\n"
   ]
  },
  {
   "cell_type": "code",
   "execution_count": null,
   "metadata": {},
   "outputs": [],
   "source": [
    "# Create a clean DataFrame by dropping the duplicate mouse by its ID.\n",
    "study_results1=pd.DataFrame(study_results)"
   ]
  },
  {
   "cell_type": "code",
   "execution_count": null,
   "metadata": {},
   "outputs": [],
   "source": [
    "study_results1.nunique()"
   ]
  },
  {
   "cell_type": "code",
   "execution_count": null,
   "metadata": {},
   "outputs": [],
   "source": [
    "## Summary Statistics"
   ]
  },
  {
   "cell_type": "code",
   "execution_count": null,
   "metadata": {},
   "outputs": [],
   "source": [
    "# Generate a summary statistics table of mean, median, variance, standard deviation, and SEM of the tumor volume for each regimen\n",
    "\n",
    "# Use groupby and summary statistical methods to calculate the following properties of each drug regimen: \n",
    "# mean, median, variance, standard deviation, and SEM of the tumor volume. \n",
    "# Assemble the resulting series into a single summary dataframe\n",
    "df_right = pd.merge( mouse_metadata, study_results1, on='Mouse ID', how='right')\n",
    "df_right.head()\n",
    "#df_right.nunique()\n",
    "df_group= df_right[['Drug Regimen','Tumor Volume (mm3)']]\n",
    "df_group.head()\n",
    "stat_anl=df_group.groupby('Drug Regimen').mean()\n",
    "stat_anl.columns=['Mean']\n",
    "#stat_anlm=df_group.groupby('Drug Regimen').mode()\n",
    "stat_anlme=df_group.groupby('Drug Regimen').median()\n",
    "stat_anlme.columns=['Median']\n",
    "stat_anlstd=df_group.groupby('Drug Regimen').std()\n",
    "stat_anlstd.columns=['Std Deviation']\n",
    "stat_anlsem=df_group.groupby('Drug Regimen').sem()\n",
    "stat_anlsem.columns=['SEM']\n",
    "stat_anlvar= df_group.groupby('Drug Regimen').var()\n",
    "stat_anlvar.columns=['Variance']\n",
    "stat_anlvar\n",
    "\n",
    "tot_sum= stat_anl.join(stat_anlme)\n",
    "tot_sum1= tot_sum.join(stat_anlstd)\n",
    "tot_sum2= tot_sum1.join(stat_anlsem)\n",
    "tot_sum3 =tot_sum2.join(stat_anlvar)\n",
    "tot_sum3\n"
   ]
  },
  {
   "cell_type": "code",
   "execution_count": null,
   "metadata": {},
   "outputs": [],
   "source": [
    "# Generate a summary statistics table of mean, median, variance, standard deviation, and SEM of the tumor volume for each regimen\n",
    "\n",
    "# Using the aggregation method, produce the same summary statistics in a single line\n",
    "Agg_sum=df_right['Tumor Volume (mm3)'].groupby([df_right['Drug Regimen']]).agg([\"mean\",\"median\",\"var\",\"sem\",\"std\"])\n",
    "Agg_sum\n"
   ]
  },
  {
   "cell_type": "markdown",
   "metadata": {},
   "source": [
    "## Bar and Pie Charts"
   ]
  },
  {
   "cell_type": "code",
   "execution_count": null,
   "metadata": {},
   "outputs": [],
   "source": [
    "# Generate a bar plot showing the total number of unique mice tested on each drug regimen using pandas.\n",
    "Mice_count=df_right['Mouse ID'].groupby([df_right['Drug Regimen']]).count()\n",
    "Mice_count.index\n",
    "\n",
    "\n",
    "Mice_count.plot(kind=\"bar\", figsize=(10,3))\n",
    "\n",
    "# Set a title for the chart\n",
    "plt.title(\"Total Number of Unique Mice Tested per Drug\")\n",
    "plt.show()\n",
    "plt.tight_layout()"
   ]
  },
  {
   "cell_type": "code",
   "execution_count": null,
   "metadata": {},
   "outputs": [],
   "source": [
    "Mice_count\n",
    "Mice_count.columns=[\"Total_Mice\"]\n",
    "y_lim=Mice_count.max()"
   ]
  },
  {
   "cell_type": "code",
   "execution_count": null,
   "metadata": {},
   "outputs": [],
   "source": [
    "# Generate a bar plot showing the total number of unique mice tested on each drug regimen using pyplot.\n",
    "plt.figure(figsize=(10,4))\n",
    "plt.bar(Mice_count.index, Mice_count, color='r', alpha=0.5, align=\"center\")\n",
    "#plt.xticks(tick_locations, rain_df[\"State\"], rotation=\"vertical\")\n",
    "\n",
    "plt.ylim(0, y_lim+10)\n",
    "plt.title(\"Total Number of Unique Mice Tested per Drug\")\n",
    "plt.xlabel(\"Drug Regimen\")\n",
    "plt.ylabel(\"Total Mice\")\n"
   ]
  },
  {
   "cell_type": "code",
   "execution_count": null,
   "metadata": {},
   "outputs": [],
   "source": [
    "#Generate a pie plot showing the distribution of female versus male mice using pandas\n",
    "\n",
    "Mice_df = df_right.groupby('Sex')['Mouse ID'].nunique()\n",
    "Mice_df\n",
    "sex_chart=Mice_df.plot(kind=\"pie\", autopct=\"%1.1f%%\", figsize = (5,5))\n",
    "sex_chart.set_ylabel(\"Distribution of female vesus male mouse\")\n",
    "plt.show()\n",
    "plt.tight_layout()\n"
   ]
  },
  {
   "cell_type": "code",
   "execution_count": null,
   "metadata": {},
   "outputs": [],
   "source": [
    "# Generate a pie plot showing the distribution of female versus male mice using pyplot\n",
    "plt.figure(figsize=(5,5))\n",
    "label=  [\"Female\", \"Male\"]\n",
    "plt.pie(Mice_df, autopct=\"%1.1f%%\",labels=label)\n",
    "plt.ylabel(\"Distribution of female vesus male mouse\")\n"
   ]
  },
  {
   "cell_type": "markdown",
   "metadata": {},
   "source": [
    "## Quartiles, Outliers and Boxplots"
   ]
  },
  {
   "cell_type": "code",
   "execution_count": null,
   "metadata": {},
   "outputs": [],
   "source": [
    "# Calculate the final tumor volume of each mouse across four of the treatment regimens:  \n",
    "# Capomulin, Ramicane, Infubinol, and Ceftamin\n",
    "\n",
    "# Start by getting the last (greatest) timepoint for each mouse\n",
    "\n",
    "\n",
    "# Merge this group df with the origial dataframe to get the tumor volume at the last timepoint\n",
    "df_right\n",
    "Last_tum=df_right['Tumor Volume (mm3)'].groupby(df_right['Mouse ID']).last()\n",
    "#Last_tum_drug=Last_tum.loc[\"Capomulin\",:]\n",
    "\n",
    "Last_tum1=pd.DataFrame(Last_tum)\n",
    "Last_tum1.columns=['Last_Tumor_Size']\n",
    "Last_tum1\n",
    "\n",
    "merged_tumor=pd.merge(mouse_metadata, Last_tum1, on='Mouse ID', how='right')\n",
    "merged_tumor.set_index('Drug Regimen', inplace=True)\n",
    "merged_tumor.index\n",
    "merged_tumor_filt=merged_tumor.loc[('Capomulin','Ramicane','Infubinol', 'Ceftamin'), :]\n",
    "merged_tumor_filt"
   ]
  },
  {
   "cell_type": "code",
   "execution_count": null,
   "metadata": {},
   "outputs": [],
   "source": [
    "# Put treatments into a list for for loop (and later for plot labels)\n",
    "treat_drug = merged_tumor_filt.index.unique()\n",
    "treat_drug\n",
    "\n",
    "# Create empty list to fill with tumor vol data (for plotting)\n",
    "tumor_vol_data=merged_tumor_filt['Last_Tumor_Size']\n",
    "tumor_vol_data\n",
    "\n",
    "# Calculate the IQR and quantitatively determine if there are any potential outliers. \n",
    "quartiles = tumor_vol_data.quantile([.25,.5,.75])\n",
    "lowerq = quartiles[0.25]\n",
    "upperq = quartiles[0.75]\n",
    "iqr = upperq-lowerq\n",
    "    \n",
    "    # Locate the rows which contain mice on each drug and get the tumor volumes\n",
    "merged_tumor_filt1=merged_tumor_filt.loc[\"Capomulin\",\"Last_Tumor_Size\"]\n",
    "merged_tumor_filt2=merged_tumor_filt.loc[\"Ramicane\",\"Last_Tumor_Size\"]\n",
    "merged_tumor_filt3=merged_tumor_filt.loc[\"Infubinol\",\"Last_Tumor_Size\"]\n",
    "merged_tumor_filt4=merged_tumor_filt.loc[\"Ceftamin\",\"Last_Tumor_Size\"]\n",
    "\n",
    "# Calculate the IQR and quantitatively determine if there are any potential outliers for Capomulin. \n",
    "quartiles = merged_tumor_filt1.quantile([.25,.5,.75])\n",
    "lowerq = quartiles[0.25]\n",
    "upperq = quartiles[0.75]\n",
    "iqr1 = upperq-lowerq\n",
    "iqr1\n",
    "\n",
    "\n",
    "# Calculate the IQR and quantitatively determine if there are any potential outliers for Ramicane. \n",
    "quartiles = merged_tumor_filt2.quantile([.25,.5,.75])\n",
    "lowerq = quartiles[0.25]\n",
    "upperq = quartiles[0.75]\n",
    "iqr2 = upperq-lowerq\n",
    "iqr2\n",
    "\n",
    "# Calculate the IQR and quantitatively determine if there are any potential outliers for Infubinol. \n",
    "quartiles = merged_tumor_filt3.quantile([.25,.5,.75])\n",
    "lowerq = quartiles[0.25]\n",
    "upperq = quartiles[0.75]\n",
    "iqr3 = upperq-lowerq\n",
    "#iqr\n",
    "\n",
    "# Calculate the IQR and quantitatively determine if there are any potential outliers for Ceftamin. \n",
    "quartiles = merged_tumor_filt4.quantile([.25,.5,.75])\n",
    "lowerq = quartiles[0.25]\n",
    "upperq = quartiles[0.75]\n",
    "iqr4 = upperq-lowerq\n",
    "\n",
    "#Print upper and lower bounds for each drug\n",
    "lower_bound1 = lowerq - (1.5*iqr1)\n",
    "upper_bound1= upperq + (1.5*iqr1)\n",
    "print(f\"Values below {lower_bound1} could be outliers for Capamulin\")\n",
    "print(f\"Values above {upper_bound1} could be outliers for Capamulin\")\n",
    "\n",
    "lower_bound2 = lowerq - (1.5*iqr2)\n",
    "upper_bound2= upperq + (1.5*iqr2)\n",
    "print(f\"Values below {lower_bound2} could be outliers for Ramicane\")\n",
    "print(f\"Values above {upper_bound2} could be outliers for Ramicane\")\n",
    "\n",
    "lower_bound3 = lowerq - (1.5*iqr3)\n",
    "upper_bound3= upperq + (1.5*iqr3)\n",
    "print(f\"Values below {lower_bound3} could be outliers for Infubinol\")\n",
    "print(f\"Values above {upper_bound3} could be outliers for Infubinol\")\n",
    "\n",
    "lower_bound4 = lowerq - (1.5*iqr4)\n",
    "upper_bound4= upperq + (1.5*iqr4)\n",
    "print(f\"Values below {lower_bound4} could be outliers for Ceftamin\")\n",
    "print(f\"Values above {upper_bound4} could be outliers for Ceftamin\")\n",
    "\n",
    " "
   ]
  },
  {
   "cell_type": "code",
   "execution_count": null,
   "metadata": {},
   "outputs": [],
   "source": [
    "# Generate a box plot of the final tumor volume of each mouse across four regimens of interest\n"
   ]
  },
  {
   "cell_type": "markdown",
   "metadata": {},
   "source": [
    "## Line and Scatter Plots"
   ]
  },
  {
   "cell_type": "code",
   "execution_count": null,
   "metadata": {},
   "outputs": [],
   "source": [
    "# Generate a line plot of tumor volume vs. time point for a mouse treated with Capomulin\n",
    "df_cap=df_right.loc[:,['Drug Regimen','Tumor Volume (mm3)','Timepoint','Mouse ID']]\n",
    "df_cap.set_index('Drug Regimen', inplace=True)\n",
    "df_cap1=df_cap.loc[\"Capomulin\",:]\n",
    "\n",
    "df_cap1.set_index('Mouse ID', inplace=True)\n",
    "df_cap2=df_cap1.loc[\"s185\",:]\n",
    "               \n",
    "plt.figure(figsize=(8,8))            \n",
    "plt.plot(df_cap2['Tumor Volume (mm3)'], df_cap2['Timepoint'], color='r', alpha=0.5, linewidth=2, marker='o')\n",
    "\n",
    "plt.ylim(0, 55)\n",
    "plt.xlim(20,50)\n",
    "plt.title(\"Tumor Volume Vs Timepoint for Capomulin for mouse S185\")\n",
    "plt.xlabel(\"Tumor Volume mm3\")\n",
    "plt.ylabel(\"Timepoint\")\n"
   ]
  },
  {
   "cell_type": "code",
   "execution_count": null,
   "metadata": {},
   "outputs": [],
   "source": [
    "# Generate a scatter plot of average tumor volume vs. mouse weight for the Capomulin regimen\n",
    "\n",
    "df_mv=df_right.loc[:,['Drug Regimen','Tumor Volume (mm3)','Weight (g)','Mouse ID']]\n",
    "df_mv.set_index('Drug Regimen', inplace=True)\n",
    "df_mv1=df_mv.loc[\"Capomulin\",:]\n",
    "\n",
    "avg_tum=df_mv1['Tumor Volume (mm3)'].groupby(df_mv1['Mouse ID']).mean()\n",
    "\n",
    "avg_tum1=pd.DataFrame(avg_tum)\n",
    "avg_tum1.columns=['Average']\n",
    "#avg_tum1.set_index('Mouse ID', inplace=True)\n",
    "mv_wt=df_mv1['Weight (g)'].groupby(df_mv1['Mouse ID']).unique()\n",
    "mv_wt1=pd.DataFrame(mv_wt)\n",
    "\n",
    "\n",
    "#avg_tum1.index\n",
    "mv_wt1\n",
    "#x_axis = np.arange(0, 10, 0.1)\n",
    "#y_axis=\n",
    "\n",
    "plt.title(\"Average Tumor Volume Vs Mouse Weight for Capomulin\")\n",
    "plt.xlabel(\"Mouse Weight\")\n",
    "plt.ylabel(\"Tumor Volume (mm3)\")\n",
    "#plt.figure(figsize=(8,8))   \n",
    "plt.ylim(30,55)\n",
    "plt.xlim(10,30)\n",
    "plt.scatter(mv_wt1['Weight (g)'], avg_tum1['Average'], marker=\"o\", facecolor=\"red\",edgecolors=\"black\",alpha=0.75, s=40)\n",
    "plt.show()\n",
    " \n"
   ]
  },
  {
   "cell_type": "markdown",
   "metadata": {},
   "source": [
    "## Correlation and Regression"
   ]
  },
  {
   "cell_type": "code",
   "execution_count": null,
   "metadata": {},
   "outputs": [],
   "source": [
    "# Calculate the correlation coefficient and linear regression model \n",
    "# for mouse weight and average tumor volume for the Capomulin regimen\n"
   ]
  },
  {
   "cell_type": "markdown",
   "metadata": {},
   "source": [
    "#Observations:  \n",
    "#1.From one of the studies it was concluded with treatment for Capomulin tumor sizes decreased as the timepoint increased\n",
    "#2.Also Capomulin average tumore volume is between the range of 40-45 mm3 when the mouse weight is between 17.5 and 25 months.\n",
    "#3.Most mices were tested with Capomulin and Ramicane.\n",
    "#4.The male and female popluation mice tested were equally tested.\n",
    " \n"
   ]
  },
  {
   "cell_type": "code",
   "execution_count": null,
   "metadata": {},
   "outputs": [],
   "source": []
  },
  {
   "cell_type": "code",
   "execution_count": null,
   "metadata": {},
   "outputs": [],
   "source": []
  },
  {
   "cell_type": "code",
   "execution_count": null,
   "metadata": {},
   "outputs": [],
   "source": []
  }
 ],
 "metadata": {
  "anaconda-cloud": {},
  "kernelspec": {
   "display_name": "Python [conda env:pydata] *",
   "language": "python",
   "name": "conda-env-pydata-py"
  },
  "language_info": {
   "codemirror_mode": {
    "name": "ipython",
    "version": 3
   },
   "file_extension": ".py",
   "mimetype": "text/x-python",
   "name": "python",
   "nbconvert_exporter": "python",
   "pygments_lexer": "ipython3",
   "version": "3.6.10"
  }
 },
 "nbformat": 4,
 "nbformat_minor": 4
}
